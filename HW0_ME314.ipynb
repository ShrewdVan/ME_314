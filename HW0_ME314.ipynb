{
  "nbformat": 4,
  "nbformat_minor": 0,
  "metadata": {
    "kernelspec": {
      "display_name": "Python 3",
      "language": "python",
      "name": "python3"
    },
    "language_info": {
      "codemirror_mode": {
        "name": "ipython",
        "version": 3
      },
      "file_extension": ".py",
      "mimetype": "text/x-python",
      "name": "python",
      "nbconvert_exporter": "python",
      "pygments_lexer": "ipython3",
      "version": "3.6.9"
    },
    "colab": {
      "provenance": [],
      "include_colab_link": true
    }
  },
  "cells": [
    {
      "cell_type": "markdown",
      "metadata": {
        "id": "view-in-github",
        "colab_type": "text"
      },
      "source": [
        "<a href=\"https://colab.research.google.com/github/ShrewdVan/ME_314/blob/main/HW0_ME314.ipynb\" target=\"_parent\"><img src=\"https://colab.research.google.com/assets/colab-badge.svg\" alt=\"Open In Colab\"/></a>"
      ]
    },
    {
      "cell_type": "markdown",
      "metadata": {
        "id": "p5AANcq8aXQE"
      },
      "source": [
        "# ME314 Homework 0\n",
        "\n",
        "\n",
        "\n",
        "\n"
      ]
    },
    {
      "cell_type": "code",
      "metadata": {
        "id": "e10BTR6Ldtgc"
      },
      "source": [
        "#IMPORT ALL NECESSARY PACKAGES AT THE TOP OF THE CODE\n",
        "import sympy as sym\n",
        "import numpy as np\n",
        "import matplotlib.pyplot as plt\n",
        "from IPython.display import Markdown, display\n",
        "from sympy import sin, cos, pi"
      ],
      "execution_count": null,
      "outputs": []
    },
    {
      "cell_type": "code",
      "metadata": {
        "id": "9HlLVMmeaXQF"
      },
      "source": [
        "\n",
        "def custom_latex_printer(exp,**options):\n",
        "    from google.colab.output._publish import javascript\n",
        "    url = \"https://cdnjs.cloudflare.com/ajax/libs/mathjax/3.1.1/latest.js?config=TeX-AMS_HTML\"\n",
        "    javascript(url=url)\n",
        "    return sym.printing.latex(exp,**options)\n",
        "sym.init_printing(use_latex=\"mathjax\",latex_printer=custom_latex_printer)"
      ],
      "execution_count": null,
      "outputs": []
    },
    {
      "cell_type": "code",
      "source": [
        "x = sym.symbols('x')\n",
        "Eqn = sym.Eq(4,(300/x)**(1.4/0.4))\n",
        "display(Eqn)\n",
        "Sol = sym.solve(Eqn,x)\n",
        "display(Sol)"
      ],
      "metadata": {
        "colab": {
          "base_uri": "https://localhost:8080/",
          "height": 82
        },
        "id": "D_imHfJEmV1i",
        "outputId": "d49b119d-3cef-4cd0-89fe-1c66890efdde"
      },
      "execution_count": null,
      "outputs": [
        {
          "output_type": "display_data",
          "data": {
            "text/plain": [
              "<IPython.core.display.HTML object>"
            ],
            "text/html": [
              "<script src='https://cdnjs.cloudflare.com/ajax/libs/mathjax/3.1.1/latest.js?config=TeX-AMS_HTML'></script>"
            ]
          },
          "metadata": {}
        },
        {
          "output_type": "display_data",
          "data": {
            "text/plain": [
              "                        3.5\n",
              "                     ⎛1⎞   \n",
              "4 = 467653718.043596⋅⎜─⎟   \n",
              "                     ⎝x⎠   "
            ],
            "text/latex": "$\\displaystyle 4 = 467653718.043596 \\left(\\frac{1}{x}\\right)^{3.5}$"
          },
          "metadata": {}
        },
        {
          "output_type": "display_data",
          "data": {
            "text/plain": [
              "<IPython.core.display.HTML object>"
            ],
            "text/html": [
              "<script src='https://cdnjs.cloudflare.com/ajax/libs/mathjax/3.1.1/latest.js?config=TeX-AMS_HTML'></script>"
            ]
          },
          "metadata": {}
        },
        {
          "output_type": "display_data",
          "data": {
            "text/plain": [
              "[201.885028894853, -44.9236451814803 - 196.823349721226⋅ⅈ, -44.9236451814803 +\n",
              " 196.823349721226⋅ⅈ]"
            ],
            "text/latex": "$\\displaystyle \\left[ 201.885028894853, \\  -44.9236451814803 - 196.823349721226 i, \\  -44.9236451814803 + 196.823349721226 i\\right]$"
          },
          "metadata": {}
        }
      ]
    },
    {
      "cell_type": "markdown",
      "metadata": {
        "id": "R8KcW-HdaXQK"
      },
      "source": [
        "## Problem 1 (20pts)\n",
        "\n",
        "Given a function $f(x)=\\sin(x)$, find the derivative of $f(x)$ and find the directional derivative of $f(x)$ in the direction $v$.  Moreover, compute these derivatives using Pythons's SymPy package."
      ]
    },
    {
      "cell_type": "code",
      "metadata": {
        "id": "sWtszMPMaXQK",
        "colab": {
          "base_uri": "https://localhost:8080/",
          "height": 151
        },
        "outputId": "b56daf32-c1dd-4e10-aafd-586e4c91107b"
      },
      "source": [
        "\n",
        "x = sym.symbols('x')\n",
        "f = sin(x)\n",
        "\n",
        "# Part 1: compute derivative of f wrt x\n",
        "df = f.diff(x)\n",
        "\n",
        "print(\"derivative of f wrt x: \")\n",
        "display(Markdown('**{}**'.format(df)))\n",
        "\n",
        "# Part 2: compute directional derivative of f\n",
        "eps, v = sym.symbols(r'\\epsilon, v')\n",
        "new_f = sin(x + v*eps)\n",
        "df_eps = new_f.diff(eps)\n",
        "df_eps.simplify()\n",
        "print(\"derivative of f wrt eps: \")\n",
        "display(df_eps)\n",
        "\n",
        "# evaluate the directional derivative by assuming eps = 0\n",
        "new_df = df_eps.subs(eps, 0)\n",
        "new_df.simplify()\n",
        "print(\"directional derivative of f on v:\")\n",
        "display(Markdown(\"**{}**\".format(new_df)))"
      ],
      "execution_count": null,
      "outputs": [
        {
          "output_type": "stream",
          "name": "stdout",
          "text": [
            "derivative of f wrt x: \n"
          ]
        },
        {
          "output_type": "display_data",
          "data": {
            "text/plain": [
              "<IPython.core.display.Markdown object>"
            ],
            "text/markdown": "**cos(x)**"
          },
          "metadata": {}
        },
        {
          "output_type": "stream",
          "name": "stdout",
          "text": [
            "derivative of f wrt eps: \n"
          ]
        },
        {
          "output_type": "display_data",
          "data": {
            "text/plain": [
              "<IPython.core.display.HTML object>"
            ],
            "text/html": [
              "<script src='https://cdnjs.cloudflare.com/ajax/libs/mathjax/3.1.1/latest.js?config=TeX-AMS_HTML'></script>"
            ]
          },
          "metadata": {}
        },
        {
          "output_type": "display_data",
          "data": {
            "text/plain": [
              "v⋅cos(\\epsilon⋅v + x)"
            ],
            "text/latex": "$\\displaystyle v \\cos{\\left(\\epsilon v + x \\right)}$"
          },
          "metadata": {}
        },
        {
          "output_type": "stream",
          "name": "stdout",
          "text": [
            "directional derivative of f on v:\n"
          ]
        },
        {
          "output_type": "display_data",
          "data": {
            "text/plain": [
              "<IPython.core.display.Markdown object>"
            ],
            "text/markdown": "**v*cos(x)**"
          },
          "metadata": {}
        }
      ]
    },
    {
      "cell_type": "markdown",
      "metadata": {
        "id": "2GySmCekaXRC"
      },
      "source": [
        "## Problem 2 (20pts)\n",
        "\n",
        "Given a function of trajectory:\n",
        "$$\n",
        "J(x(t)) = \\int_0^{\\pi/2} \\frac{1}{2} x(t)^2 dt\n",
        "$$\n",
        "Compute the analytical solution when $x=\\cos(t)$, verify your answer by numerical integration.\n",
        "\n",
        "The code for numerical integration is provided below:"
      ]
    },
    {
      "cell_type": "code",
      "metadata": {
        "id": "OvgRhdLMaXRC",
        "colab": {
          "base_uri": "https://localhost:8080/"
        },
        "outputId": "e8a70d7a-fef5-43cf-8a3c-cfd81222493e"
      },
      "source": [
        "\n",
        "def integrate(func, xspan, step_size):\n",
        "    x = np.arange(xspan[0], xspan[1], step_size)\n",
        "    int_val = 0\n",
        "    for xi in x:\n",
        "        int_val += func(xi) * step_size\n",
        "    return int_val\n",
        "\n",
        "# Quote the function here with the x(t)= cos(t)\n",
        "def p3(t):\n",
        "    return 0.5 * (cos(t)) ** 2\n",
        "\n",
        "# Decrease the step size gradually to see how the outcome changes\n",
        "print( integrate(func=p3, xspan=[0, pi/2], step_size=0.01) )\n",
        "print( integrate(func=p3, xspan=[0, pi/2], step_size=0.001) )\n",
        "print( integrate(func=p3, xspan=[0, pi/2], step_size=0.0005) )"
      ],
      "execution_count": null,
      "outputs": [
        {
          "output_type": "stream",
          "name": "stdout",
          "text": [
            "0.395199076563803\n",
            "0.392949081706737\n",
            "0.392824081699208\n"
          ]
        }
      ]
    },
    {
      "cell_type": "code",
      "metadata": {
        "id": "YdxntM2maXSP"
      },
      "source": [
        "# The result got by handwritten calculation is pi/8, which is roundly 0.39269. We can see there is tiny differenve between these two method. The source of error is the approximation\n",
        "# we use here. As we decrease the step size, the outcome is approaching the answer we got from handwrittern verison."
      ],
      "execution_count": null,
      "outputs": []
    },
    {
      "cell_type": "markdown",
      "metadata": {
        "id": "Xuw8SIBPaXSS"
      },
      "source": [
        "## Problem 3 (20pts)\n",
        "\n",
        "For the function $J(x(t))$ in Problem 2, compute and evaluate the analytical solution for the directional derivative of $J$ at $x(t) = \\cos(t)$ in the direction $v(t) = \\sin(t)$. Note that the directional derivative should be in the form of integration. Evaluate this integral analytically, and verify your answer using the same numerical integration function as in Problem 2.\n",
        "\n",
        "**Turn in: A scanned (or photograph from your phone or webcam) copy of your hand written (or you can use $\\LaTeX$) derivation and evaluation of the directional derivative. Also, include the code used to numerically verify the integration result.**"
      ]
    },
    {
      "cell_type": "code",
      "metadata": {
        "id": "o2AafVE6aXSS",
        "colab": {
          "base_uri": "https://localhost:8080/"
        },
        "outputId": "cf337511-0650-4d98-fa86-9c5cabe26dff"
      },
      "source": [
        "\n",
        "def p4(t):\n",
        "  return cos(t)*sin(t)\n",
        "\n",
        "print( integrate(func=p4, xspan=[0, pi/2], step_size=0.01) )\n",
        "print( integrate(func=p4, xspan=[0, pi/2], step_size=0.001) )\n",
        "print( integrate(func=p4, xspan=[0, pi/2], step_size=0.0005) )\n",
        "\n"
      ],
      "execution_count": null,
      "outputs": [
        {
          "output_type": "stream",
          "name": "stdout",
          "text": [
            "0.499986997796966\n",
            "0.499999914428558\n",
            "0.499999988510288\n"
          ]
        }
      ]
    },
    {
      "cell_type": "code",
      "source": [
        "# Almost the same with the problem 2, as the step size decreasing, the outcome is approaching the 0.5, which is the answer got from the handwrittern calculation."
      ],
      "metadata": {
        "id": "gifCHrzcbbBN"
      },
      "execution_count": null,
      "outputs": []
    },
    {
      "cell_type": "markdown",
      "metadata": {
        "id": "72Jg3xWJaXSw"
      },
      "source": [
        "## Problem 4 (20pts)\n",
        "\n",
        "Verify your answer in Problem 3 symbolically using Python's SymPy package, this means you need to compute the directional derivative and evaluate the integration all symbolically.\n",
        "\n",
        "*Hint 1: Different from computing directional derivative in Problem 1, this time the function includes integration. Thus, instead of defining x as a symbol, you should define x as a function of symbol t. An example of defining function and taking the derivative of the function integration is provided below.*"
      ]
    },
    {
      "cell_type": "code",
      "metadata": {
        "id": "VES-iwYBaXSz",
        "colab": {
          "base_uri": "https://localhost:8080/",
          "height": 315
        },
        "outputId": "54b1c0ca-1468-485c-892f-74faaf011e59"
      },
      "source": [
        "t = sym.symbols('t')\n",
        "# define function x and y\n",
        "x = sym.Function('x')(t)\n",
        "v = sym.Function('v')(t)\n",
        "eps = sym.symbols(r'\\epsilon')\n",
        "# define J(x(t), y(t):\n",
        "J = sym.integrate(0.5*(x + eps*v)**2, [t, 0, sym.pi/2])\n",
        "print('J(x(t), y(t)) = ')\n",
        "display(J)\n",
        "\n",
        "# take the time derivative of J(x(t))\n",
        "dJdx = J.diff(eps)\n",
        "print('derivative of J(x(t), y(t)) wrt x(t): ')\n",
        "display(dJdx)\n",
        "\n",
        "# now, we have x(t)=sin(t) and y(t)=cos(t), we substitute them\n",
        "# in, and evaluate the integration\n",
        "dJdx_subs = dJdx.subs({x:sym.cos(t), v:sym.sin(t),eps: 0})\n",
        "print('derivative of J, after substitution: ')\n",
        "display(dJdx_subs)\n",
        "print('evaluation of derivative of J, after substitution: ')\n",
        "display(Markdown(\"**{}**\".format(sym.N(dJdx_subs))))"
      ],
      "execution_count": null,
      "outputs": [
        {
          "output_type": "stream",
          "name": "stdout",
          "text": [
            "J(x(t), y(t)) = \n"
          ]
        },
        {
          "output_type": "display_data",
          "data": {
            "text/plain": [
              "<IPython.core.display.HTML object>"
            ],
            "text/html": [
              "<script src='https://cdnjs.cloudflare.com/ajax/libs/mathjax/3.1.1/latest.js?config=TeX-AMS_HTML'></script>"
            ]
          },
          "metadata": {}
        },
        {
          "output_type": "display_data",
          "data": {
            "text/plain": [
              "    π                                                          π         \n",
              "    ─                          π                               ─         \n",
              "    2                          ─                               2         \n",
              "    ⌠                          2                               ⌠         \n",
              "    ⎮         2  2             ⌠                               ⎮  2      \n",
              "0.5⋅⎮ \\epsilon ⋅v (t) dt + 0.5⋅⎮ 2⋅\\epsilon⋅v(t)⋅x(t) dt + 0.5⋅⎮ x (t) dt\n",
              "    ⌡                          ⌡                               ⌡         \n",
              "    0                          0                               0         "
            ],
            "text/latex": "$\\displaystyle 0.5 \\int\\limits_{0}^{\\frac{\\pi}{2}} \\epsilon^{2} v^{2}{\\left(t \\right)}\\, dt + 0.5 \\int\\limits_{0}^{\\frac{\\pi}{2}} 2 \\epsilon v{\\left(t \\right)} x{\\left(t \\right)}\\, dt + 0.5 \\int\\limits_{0}^{\\frac{\\pi}{2}} x^{2}{\\left(t \\right)}\\, dt$"
          },
          "metadata": {}
        },
        {
          "output_type": "stream",
          "name": "stdout",
          "text": [
            "derivative of J(x(t), y(t)) wrt x(t): \n"
          ]
        },
        {
          "output_type": "display_data",
          "data": {
            "text/plain": [
              "<IPython.core.display.HTML object>"
            ],
            "text/html": [
              "<script src='https://cdnjs.cloudflare.com/ajax/libs/mathjax/3.1.1/latest.js?config=TeX-AMS_HTML'></script>"
            ]
          },
          "metadata": {}
        },
        {
          "output_type": "display_data",
          "data": {
            "text/plain": [
              "    π                                           \n",
              "    ─                           π               \n",
              "    2                           ─               \n",
              "    ⌠                           2               \n",
              "    ⎮             2             ⌠               \n",
              "0.5⋅⎮ 2⋅\\epsilon⋅v (t) dt + 0.5⋅⎮ 2⋅v(t)⋅x(t) dt\n",
              "    ⌡                           ⌡               \n",
              "    0                           0               "
            ],
            "text/latex": "$\\displaystyle 0.5 \\int\\limits_{0}^{\\frac{\\pi}{2}} 2 \\epsilon v^{2}{\\left(t \\right)}\\, dt + 0.5 \\int\\limits_{0}^{\\frac{\\pi}{2}} 2 v{\\left(t \\right)} x{\\left(t \\right)}\\, dt$"
          },
          "metadata": {}
        },
        {
          "output_type": "stream",
          "name": "stdout",
          "text": [
            "derivative of J, after substitution: \n"
          ]
        },
        {
          "output_type": "display_data",
          "data": {
            "text/plain": [
              "<IPython.core.display.HTML object>"
            ],
            "text/html": [
              "<script src='https://cdnjs.cloudflare.com/ajax/libs/mathjax/3.1.1/latest.js?config=TeX-AMS_HTML'></script>"
            ]
          },
          "metadata": {}
        },
        {
          "output_type": "display_data",
          "data": {
            "text/plain": [
              "    π            π                   \n",
              "    ─            ─                   \n",
              "    2            2                   \n",
              "    ⌠            ⌠                   \n",
              "0.5⋅⎮ 0 dt + 0.5⋅⎮ 2⋅sin(t)⋅cos(t) dt\n",
              "    ⌡            ⌡                   \n",
              "    0            0                   "
            ],
            "text/latex": "$\\displaystyle 0.5 \\int\\limits_{0}^{\\frac{\\pi}{2}} 0\\, dt + 0.5 \\int\\limits_{0}^{\\frac{\\pi}{2}} 2 \\sin{\\left(t \\right)} \\cos{\\left(t \\right)}\\, dt$"
          },
          "metadata": {}
        },
        {
          "output_type": "stream",
          "name": "stdout",
          "text": [
            "evaluation of derivative of J, after substitution: \n"
          ]
        },
        {
          "output_type": "display_data",
          "data": {
            "text/plain": [
              "<IPython.core.display.Markdown object>"
            ],
            "text/markdown": "**0.500000000000000**"
          },
          "metadata": {}
        }
      ]
    },
    {
      "cell_type": "markdown",
      "metadata": {
        "id": "rmzz-xtCaXS4"
      },
      "source": [
        "## Problem 5 (20pts)\n",
        "\n",
        "Given the equation:\n",
        "$$\n",
        "xy + \\sin(x) = x + y\n",
        "$$\n",
        "Use Python's SymPy package to symbolically solve this equation for $y$, thus you can write $y$ as a function of $x$. Transfer your symbolic solution into a numerical function and plot this function for $x\\in[0, \\pi]$ with Python's Matplotlib package.\n",
        "\n",
        "In this problem you will use two methods in SymPy. The first is its symbolic sovler method **solve()**, which takes in an equation or expression (in this it equals 0) and solve it for one or one set of variables. Another method you will use is **lambdify()**, which can transfer a symbolic expression into a numerical function automatically (of course in this problem we can hand code the function, but later in the class we will have super sophisticated expression to evaluate.\n"
      ]
    },
    {
      "cell_type": "code",
      "metadata": {
        "id": "fbFESQlpaXS4",
        "colab": {
          "base_uri": "https://localhost:8080/",
          "height": 559
        },
        "outputId": "96416351-1213-4d67-dc4e-a6bdbbbfa480"
      },
      "source": [
        "\n",
        "x, y = sym.symbols(r'x,y')\n",
        "eqn = sym.Eq(x*y+sin(x), x+y)\n",
        "print('Original equation')\n",
        "eqn.simplify()\n",
        "display(eqn)\n",
        "\n",
        "# solve this equation for y\n",
        "y_sol = sym.solve(eqn, y)\n",
        "print('Symbolic solutions')\n",
        "print(y_sol)\n",
        "y_expr = y_sol[0]\n",
        "\n",
        "# lambdify the expression wrt symbol x\n",
        "func = sym.lambdify(x, y_expr)\n",
        "print('Test: func(1.0) = ', func(1.0))\n",
        "\n",
        "\n",
        "x_list = np.linspace(0, np.pi, 100)\n",
        "f_list = func(x_list)\n",
        "\n",
        "# plot it\n",
        "plt.plot(x_list, f_list)\n",
        "plt.show()"
      ],
      "execution_count": null,
      "outputs": [
        {
          "output_type": "stream",
          "name": "stdout",
          "text": [
            "Original equation\n"
          ]
        },
        {
          "output_type": "display_data",
          "data": {
            "text/plain": [
              "<IPython.core.display.HTML object>"
            ],
            "text/html": [
              "<script src='https://cdnjs.cloudflare.com/ajax/libs/mathjax/3.1.1/latest.js?config=TeX-AMS_HTML'></script>"
            ]
          },
          "metadata": {}
        },
        {
          "output_type": "display_data",
          "data": {
            "text/plain": [
              "x⋅y + sin(x) = x + y"
            ],
            "text/latex": "$\\displaystyle x y + \\sin{\\left(x \\right)} = x + y$"
          },
          "metadata": {}
        },
        {
          "output_type": "stream",
          "name": "stdout",
          "text": [
            "Symbolic solutions\n",
            "[(x - sin(x))/(x - 1)]\n",
            "Test: func(1.0) =  inf\n"
          ]
        },
        {
          "output_type": "stream",
          "name": "stderr",
          "text": [
            "<lambdifygenerated-5>:2: RuntimeWarning: divide by zero encountered in scalar divide\n",
            "  return (x - sin(x))/(x - 1)\n"
          ]
        },
        {
          "output_type": "display_data",
          "data": {
            "text/plain": [
              "<Figure size 640x480 with 1 Axes>"
            ],
            "image/png": "[encoded data removed]"
          },
          "metadata": {}
        }
      ]
    },
    {
      "cell_type": "markdown",
      "metadata": {
        "id": "UBG_nJa0aXS7"
      },
      "source": [
        "**Turn in: A copy of the code used to solve for symbolic solution and evaluate it as a numerical function. Also, include the plot of the numerical function.**"
      ]
    }
  ]
}